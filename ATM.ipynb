{
 "cells": [
  {
   "cell_type": "code",
   "execution_count": 1,
   "id": "a7a7f2dd-2cc6-41b6-81bb-1a736b2d5775",
   "metadata": {},
   "outputs": [],
   "source": [
    "class ATM:\n",
    "    \n",
    "    def __init__(self):\n",
    "        \n",
    "        self.pin = 0\n",
    "        self.balance = 0\n",
    "        \n",
    "    \n",
    "    def menu(self):\n",
    "        user_input = int(input(\"\"\"\n",
    "        Hello, How would you like to proceed?\n",
    "        1. Enter 1 to Create pin\n",
    "        2. Enter 2 for Deposit\n",
    "        3. Enter 3 for Check_balance\n",
    "        4. Enter 4 for Withdraw\n",
    "        5. Enter 5 to exit\n",
    "        \n",
    "        \"\"\"))\n",
    "        \n",
    "        if user_input==1:\n",
    "            print('Create Pin')\n",
    "            self.create_pin()\n",
    "        elif user_input==2:\n",
    "            print('Deposit')\n",
    "            self.deposit()\n",
    "        elif user_input==3:\n",
    "            print('Check_balance')\n",
    "            self.check_balance()\n",
    "        elif user_input==4:\n",
    "            print('withdraw')\n",
    "            self.withdraw()\n",
    "        elif user_input==5:\n",
    "            print('exit')\n",
    "            self.exit()\n",
    "        else:\n",
    "            print('invalid option')\n",
    "            \n",
    "    def create_pin(self):\n",
    "        self.pin = int(input('Enter your Pin'))\n",
    "        print('Pin set successfully\\n Your secret Pin is :',self.pin)\n",
    "        \n",
    "        self.menu()\n",
    "        \n",
    "    def deposit(self):\n",
    "        pas = int(input('Enter your password'))\n",
    "        if pas==self.pin:\n",
    "            amount = int(input('Enter Amount for Deposit'))\n",
    "            self.balance = self.balance+amount\n",
    "            print('Deposit Successfully')\n",
    "            print('Your current balance is :',self.balance)\n",
    "        else:\n",
    "            print('Your password is Invalid')\n",
    "            \n",
    "        self.menu()\n",
    "            \n",
    "    def check_balance(self):\n",
    "        pas = int(input('Enter your Password'))\n",
    "        if pas==self.pin:\n",
    "            print('Your current Balance',self.balance)\n",
    "        else:\n",
    "            print('Your Password is Invalid')\n",
    "            \n",
    "        self.menu()\n",
    "            \n",
    "    def withdraw(self):\n",
    "        pas = int(input('Enter your Password'))\n",
    "        if pas==self.pin:\n",
    "            amount = int(input('Enter amount For Withdrwal'))\n",
    "            if amount<self.balance:\n",
    "                self.balance = self.balance - amount\n",
    "                print('Withdraw Successful')\n",
    "                print('Your current balance is ', self.balance)\n",
    "            else:\n",
    "                print('insufficient amount')\n",
    "        else:\n",
    "            print('Invalid Password')\n",
    "            \n",
    "        self.menu()\n",
    "        \n",
    "    def exit(self):\n",
    "        print('Thank you, Have a Nice Day')\n"
   ]
  },
  {
   "cell_type": "code",
   "execution_count": 9,
   "id": "7108da9b-7ee4-4fcd-8fa3-fe9c36aa02b1",
   "metadata": {},
   "outputs": [],
   "source": [
    "sbi = ATM()"
   ]
  },
  {
   "cell_type": "code",
   "execution_count": 11,
   "id": "3f846fd6-dbd0-4483-97d9-b8665e4f7087",
   "metadata": {},
   "outputs": [
    {
     "name": "stdin",
     "output_type": "stream",
     "text": [
      "\n",
      "        Hello, How would you like to proceed?\n",
      "        1. Enter 1 to Create pin\n",
      "        2. Enter 2 for Deposit\n",
      "        3. Enter 3 for Check_balance\n",
      "        4. Enter 4 for Withdraw\n",
      "        5. Enter 5 to exit\n",
      "        \n",
      "         1\n"
     ]
    },
    {
     "name": "stdout",
     "output_type": "stream",
     "text": [
      "Create Pin\n"
     ]
    },
    {
     "name": "stdin",
     "output_type": "stream",
     "text": [
      "Enter your Pin 7065\n"
     ]
    },
    {
     "name": "stdout",
     "output_type": "stream",
     "text": [
      "Pin set successfully\n",
      " Your secret Pin is : 7065\n"
     ]
    },
    {
     "name": "stdin",
     "output_type": "stream",
     "text": [
      "\n",
      "        Hello, How would you like to proceed?\n",
      "        1. Enter 1 to Create pin\n",
      "        2. Enter 2 for Deposit\n",
      "        3. Enter 3 for Check_balance\n",
      "        4. Enter 4 for Withdraw\n",
      "        5. Enter 5 to exit\n",
      "        \n",
      "         2\n"
     ]
    },
    {
     "name": "stdout",
     "output_type": "stream",
     "text": [
      "Deposit\n"
     ]
    },
    {
     "name": "stdin",
     "output_type": "stream",
     "text": [
      "Enter your password 7065\n",
      "Enter Amount for Deposit 100000\n"
     ]
    },
    {
     "name": "stdout",
     "output_type": "stream",
     "text": [
      "Deposit Successfully\n",
      "Your current balance is : 100000\n"
     ]
    },
    {
     "name": "stdin",
     "output_type": "stream",
     "text": [
      "\n",
      "        Hello, How would you like to proceed?\n",
      "        1. Enter 1 to Create pin\n",
      "        2. Enter 2 for Deposit\n",
      "        3. Enter 3 for Check_balance\n",
      "        4. Enter 4 for Withdraw\n",
      "        5. Enter 5 to exit\n",
      "        \n",
      "         4\n"
     ]
    },
    {
     "name": "stdout",
     "output_type": "stream",
     "text": [
      "withdraw\n"
     ]
    },
    {
     "name": "stdin",
     "output_type": "stream",
     "text": [
      "Enter your Password 7065\n",
      "Enter amount For Withdrwal 50000\n"
     ]
    },
    {
     "name": "stdout",
     "output_type": "stream",
     "text": [
      "Withdraw Successful\n",
      "Your current balance is  50000\n"
     ]
    },
    {
     "name": "stdin",
     "output_type": "stream",
     "text": [
      "\n",
      "        Hello, How would you like to proceed?\n",
      "        1. Enter 1 to Create pin\n",
      "        2. Enter 2 for Deposit\n",
      "        3. Enter 3 for Check_balance\n",
      "        4. Enter 4 for Withdraw\n",
      "        5. Enter 5 to exit\n",
      "        \n",
      "         3\n"
     ]
    },
    {
     "name": "stdout",
     "output_type": "stream",
     "text": [
      "Check_balance\n"
     ]
    },
    {
     "name": "stdin",
     "output_type": "stream",
     "text": [
      "Enter your Password 7065\n"
     ]
    },
    {
     "name": "stdout",
     "output_type": "stream",
     "text": [
      "Your current Balance 50000\n"
     ]
    },
    {
     "name": "stdin",
     "output_type": "stream",
     "text": [
      "\n",
      "        Hello, How would you like to proceed?\n",
      "        1. Enter 1 to Create pin\n",
      "        2. Enter 2 for Deposit\n",
      "        3. Enter 3 for Check_balance\n",
      "        4. Enter 4 for Withdraw\n",
      "        5. Enter 5 to exit\n",
      "        \n",
      "         5\n"
     ]
    },
    {
     "name": "stdout",
     "output_type": "stream",
     "text": [
      "exit\n",
      "Thank you, Have a Nice Day\n"
     ]
    }
   ],
   "source": [
    "sbi.menu()"
   ]
  },
  {
   "cell_type": "code",
   "execution_count": null,
   "id": "e487f758-f0f5-4101-a7d2-5425572844b9",
   "metadata": {},
   "outputs": [],
   "source": []
  }
 ],
 "metadata": {
  "kernelspec": {
   "display_name": "Python [conda env:base] *",
   "language": "python",
   "name": "conda-base-py"
  },
  "language_info": {
   "codemirror_mode": {
    "name": "ipython",
    "version": 3
   },
   "file_extension": ".py",
   "mimetype": "text/x-python",
   "name": "python",
   "nbconvert_exporter": "python",
   "pygments_lexer": "ipython3",
   "version": "3.12.7"
  }
 },
 "nbformat": 4,
 "nbformat_minor": 5
}
